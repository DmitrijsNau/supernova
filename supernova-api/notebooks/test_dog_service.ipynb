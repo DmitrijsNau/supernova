{
 "cells": [
  {
   "cell_type": "code",
   "execution_count": 1,
   "metadata": {},
   "outputs": [],
   "source": [
    "import sys\n",
    "sys.path.append('..')"
   ]
  },
  {
   "cell_type": "code",
   "execution_count": 2,
   "metadata": {},
   "outputs": [],
   "source": [
    "import app.core.database as db"
   ]
  },
  {
   "cell_type": "code",
   "execution_count": null,
   "metadata": {},
   "outputs": [
    {
     "name": "stdout",
     "output_type": "stream",
     "text": [
      "Testing column: league_number\n",
      "Testing column: dog_name\n",
      "Testing column: main_handler_id\n",
      "Testing column: alternate_handler_id\n",
      "Testing column: call_name\n",
      "Testing column: breed\n",
      "Testing column: height\n",
      "Testing column: jump_height\n",
      "Testing column: current_level_type_id\n",
      "Testing column: is_reactive\n",
      "Testing column: people\n",
      "Testing column: dogs\n",
      "Testing column: is_virtual\n"
     ]
    }
   ],
   "source": [
    "with db.main_engine.connect() as conn:\n",
    "    with conn.begin():\n",
    "        query = f\"\"\"\n",
    "        SELECT \n",
    "            league_number,\n",
    "            dog_name,\n",
    "            main_handler_id::text as main_handler_id,\n",
    "            alternate_handler_id::text as alternate_handler_id,\n",
    "            call_name,\n",
    "            breed,\n",
    "            height,\n",
    "            jump_height,\n",
    "            current_level_type_id::text as current_level_type_id,\n",
    "            is_reactive,\n",
    "            people,\n",
    "            dogs,\n",
    "            is_virtual\n",
    "        FROM dog.dog\n",
    "        \"\"\"\n",
    "        result_df = db.read_df(conn, query, None, single=False)\n",
    "        for col in result_df.columns:\n",
    "            try:\n",
    "                print(f\"Testing column: {col}\")\n",
    "                result_df[[col]].to_json()\n",
    "            except Exception as e:\n",
    "                print(f\"Error in column {col}: {str(e)}\")"
   ]
  },
  {
   "cell_type": "code",
   "execution_count": 11,
   "metadata": {},
   "outputs": [
    {
     "name": "stdout",
     "output_type": "stream",
     "text": [
      "here\n"
     ]
    },
    {
     "data": {
      "text/plain": [
       "[{'league_number': 123,\n",
       "  'dog_name': 'Lucy',\n",
       "  'main_handler_id': '181e1970-92ff-45ec-b4fd-ee56f30626d6',\n",
       "  'alternate_handler_id': 'fe3d6799-58ed-4022-a258-5d319eebe28d',\n",
       "  'call_name': 'Woof',\n",
       "  'breed': 'rat',\n",
       "  'height': 123.0,\n",
       "  'jump_height': 24,\n",
       "  'current_level_type_id': '9a6ec784-8faa-40ef-a69c-add45f09a606',\n",
       "  'is_reactive': True,\n",
       "  'people': True,\n",
       "  'dogs': True,\n",
       "  'is_virtual': False}]"
      ]
     },
     "execution_count": 11,
     "metadata": {},
     "output_type": "execute_result"
    }
   ],
   "source": [
    "db.df_to_json(result_df)"
   ]
  }
 ],
 "metadata": {
  "kernelspec": {
   "display_name": "venv",
   "language": "python",
   "name": "python3"
  },
  "language_info": {
   "codemirror_mode": {
    "name": "ipython",
    "version": 3
   },
   "file_extension": ".py",
   "mimetype": "text/x-python",
   "name": "python",
   "nbconvert_exporter": "python",
   "pygments_lexer": "ipython3",
   "version": "3.11.10"
  }
 },
 "nbformat": 4,
 "nbformat_minor": 2
}
